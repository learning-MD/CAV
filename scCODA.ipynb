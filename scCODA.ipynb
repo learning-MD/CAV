{
 "cells": [
  {
   "cell_type": "code",
   "execution_count": 2,
   "metadata": {},
   "outputs": [],
   "source": [
    "# Setup\n",
    "import warnings\n",
    "warnings.filterwarnings(\"ignore\")\n",
    "\n",
    "import pandas as pd\n",
    "import matplotlib.pyplot as plt\n",
    "import arviz as az\n",
    "\n",
    "from sccoda.util import comp_ana as mod\n",
    "from sccoda.util import cell_composition_data as dat\n",
    "from sccoda.util import data_visualization as viz"
   ]
  },
  {
   "cell_type": "code",
   "execution_count": 3,
   "metadata": {},
   "outputs": [],
   "source": [
    "import numpy as np\n",
    "import pandas as pd\n",
    "import scanpy as sc\n",
    "import matplotlib.pyplot as pl\n",
    "from matplotlib import rcParams"
   ]
  },
  {
   "cell_type": "code",
   "execution_count": 4,
   "metadata": {},
   "outputs": [],
   "source": [
    "adata = sc.read_h5ad(\"merged_cond.h5ad\")"
   ]
  },
  {
   "cell_type": "code",
   "execution_count": 5,
   "metadata": {},
   "outputs": [
    {
     "name": "stdout",
     "output_type": "stream",
     "text": [
      "AnnData object with n_obs × n_vars = 62465 × 14187\n",
      "    obs: 'orig.ident', 'nCount_RNA', 'nFeature_RNA', 'percent.mt', 'doublet_score', 'doublet', 'cells', 'sample_ID', 'nCount_SCT', 'nFeature_SCT', 'SCT_snn_res.0.4', 'seurat_clusters', 'clusters', 'condition'\n",
      "    var: 'features'\n",
      "    obsm: 'X_harmony', 'X_pca', 'X_umap'\n",
      "    varm: 'HARMONY', 'PCs'\n"
     ]
    }
   ],
   "source": [
    "import anndata as ad\n",
    "print(adata)"
   ]
  },
  {
   "cell_type": "code",
   "execution_count": 6,
   "metadata": {},
   "outputs": [
    {
     "name": "stdout",
     "output_type": "stream",
     "text": [
      "                                    orig.ident  nCount_RNA  nFeature_RNA  \\\n",
      "RV_control_AAACCCACAACCAGAG-1_1  SeuratProject      3303.0          1770   \n",
      "RV_control_AAACGAAAGCCTTCTC-1_1  SeuratProject      2184.0          1270   \n",
      "RV_control_AAACGAACACAACGTT-1_1  SeuratProject       675.0           515   \n",
      "RV_control_AAACGAACACGTGAGA-1_1  SeuratProject      1330.0           866   \n",
      "RV_control_AAACGAACACTACCGG-1_1  SeuratProject      1635.0           991   \n",
      "...                                        ...         ...           ...   \n",
      "LV_CAV_TTTGTTGGTGACTATC-1_10     SeuratProject      3558.0          1850   \n",
      "LV_CAV_TTTGTTGTCAGAGTGG-1_10     SeuratProject      2178.0          1410   \n",
      "LV_CAV_TTTGTTGTCCGTAGGC-1_10     SeuratProject      1060.0           791   \n",
      "LV_CAV_TTTGTTGTCGGTAGGA-1_10     SeuratProject       209.0           191   \n",
      "LV_CAV_TTTGTTGTCTAGCATG-1_10     SeuratProject      6032.0          3039   \n",
      "\n",
      "                                 percent.mt  doublet_score  doublet  \\\n",
      "RV_control_AAACCCACAACCAGAG-1_1    0.000000       0.062462        0   \n",
      "RV_control_AAACGAAAGCCTTCTC-1_1    0.000000       0.022493        0   \n",
      "RV_control_AAACGAACACAACGTT-1_1    0.000000       0.016526        0   \n",
      "RV_control_AAACGAACACGTGAGA-1_1    0.000000       0.020375        0   \n",
      "RV_control_AAACGAACACTACCGG-1_1    0.000000       0.027185        0   \n",
      "...                                     ...            ...      ...   \n",
      "LV_CAV_TTTGTTGGTGACTATC-1_10       0.000000       0.064146        0   \n",
      "LV_CAV_TTTGTTGTCAGAGTGG-1_10       0.000000       0.074996        0   \n",
      "LV_CAV_TTTGTTGTCCGTAGGC-1_10       0.000000       0.223529        0   \n",
      "LV_CAV_TTTGTTGTCGGTAGGA-1_10       0.000000       0.038067        0   \n",
      "LV_CAV_TTTGTTGTCTAGCATG-1_10       4.061671       0.096134        0   \n",
      "\n",
      "                                      cells   sample_ID  nCount_SCT  \\\n",
      "RV_control_AAACCCACAACCAGAG-1_1  RV_control   6460_KA_1       901.0   \n",
      "RV_control_AAACGAAAGCCTTCTC-1_1  RV_control   6460_KA_1      1202.0   \n",
      "RV_control_AAACGAACACAACGTT-1_1  RV_control   6460_KA_1       688.0   \n",
      "RV_control_AAACGAACACGTGAGA-1_1  RV_control   6460_KA_1      1038.0   \n",
      "RV_control_AAACGAACACTACCGG-1_1  RV_control   6460_KA_1      1130.0   \n",
      "...                                     ...         ...         ...   \n",
      "LV_CAV_TTTGTTGGTGACTATC-1_10         LV_CAV  6460_KA_10      1170.0   \n",
      "LV_CAV_TTTGTTGTCAGAGTGG-1_10         LV_CAV  6460_KA_10      1581.0   \n",
      "LV_CAV_TTTGTTGTCCGTAGGC-1_10         LV_CAV  6460_KA_10      1058.0   \n",
      "LV_CAV_TTTGTTGTCGGTAGGA-1_10         LV_CAV  6460_KA_10       521.0   \n",
      "LV_CAV_TTTGTTGTCTAGCATG-1_10         LV_CAV  6460_KA_10      1215.0   \n",
      "\n",
      "                                 nFeature_SCT  SCT_snn_res.0.4  \\\n",
      "RV_control_AAACCCACAACCAGAG-1_1           764                1   \n",
      "RV_control_AAACGAAAGCCTTCTC-1_1          1022                1   \n",
      "RV_control_AAACGAACACAACGTT-1_1           515                5   \n",
      "RV_control_AAACGAACACGTGAGA-1_1           854                1   \n",
      "RV_control_AAACGAACACTACCGG-1_1           935                1   \n",
      "...                                       ...              ...   \n",
      "LV_CAV_TTTGTTGGTGACTATC-1_10              899               15   \n",
      "LV_CAV_TTTGTTGTCAGAGTGG-1_10             1315               22   \n",
      "LV_CAV_TTTGTTGTCCGTAGGC-1_10              791                8   \n",
      "LV_CAV_TTTGTTGTCGGTAGGA-1_10              201                6   \n",
      "LV_CAV_TTTGTTGTCTAGCATG-1_10              983               23   \n",
      "\n",
      "                                 seurat_clusters         clusters condition  \n",
      "RV_control_AAACCCACAACCAGAG-1_1                1   cardiomyocytes   control  \n",
      "RV_control_AAACGAAAGCCTTCTC-1_1                1   cardiomyocytes   control  \n",
      "RV_control_AAACGAACACAACGTT-1_1                5        pericytes   control  \n",
      "RV_control_AAACGAACACGTGAGA-1_1                1   cardiomyocytes   control  \n",
      "RV_control_AAACGAACACTACCGG-1_1                1   cardiomyocytes   control  \n",
      "...                                          ...              ...       ...  \n",
      "LV_CAV_TTTGTTGGTGACTATC-1_10                  15   cardiomyocytes       CAV  \n",
      "LV_CAV_TTTGTTGTCAGAGTGG-1_10                  22  dendritic cells       CAV  \n",
      "LV_CAV_TTTGTTGTCCGTAGGC-1_10                   8            Tregs       CAV  \n",
      "LV_CAV_TTTGTTGTCGGTAGGA-1_10                   6      CD4 T cells       CAV  \n",
      "LV_CAV_TTTGTTGTCTAGCATG-1_10                  23   cardiomyocytes       CAV  \n",
      "\n",
      "[62465 rows x 14 columns]\n"
     ]
    }
   ],
   "source": [
    "# Explore Anndata\n",
    "print(adata.obs)"
   ]
  },
  {
   "cell_type": "code",
   "execution_count": 7,
   "metadata": {},
   "outputs": [],
   "source": [
    "B=[\"6460xKAx1\", \"6460xKAx10\", \"6460xKAx2\", \"6460xKAx3\", \"6460xKAx4\", \"6460xKAx5\", \"6460xKAx6\", \"6460xKAx7\", \"6460xKAx8\", \"6460xKAx9\"]\n",
    "cov_df2 = pd.DataFrame({\"Cond\":[\"control\", \"CAV\", \"control\", \"CAV\", \"CAV\", \"control\", \"CAV\", \"CAV\", \"CAV\", \"CAV\"]}, index=B)\n",
    "cov_df3 = pd.DataFrame({\"Cond\":[\"RV_Control_1\", \"LV_CAV_1\", \"RV_Control_2\", \"RV_CAV_1\", \"LV_CAV_2\", \"RV_Control_3\", \"RV_CAV_2\", \"RV_CAV_3\", \"LV_CAV_3\", \"RV_CAV_4\"]}, index=B)\n",
    "cov_df4 = pd.DataFrame({\"Cond\":[\"RV_Control\", \"LV_CAV\", \"RV_Control\", \"RV_CAV\", \"LV_CAV\", \"RV_Control\", \"RV_CAV\", \"RV_CAV\", \"LV_CAV\", \"RV_CAV\"]}, index=B)"
   ]
  },
  {
   "cell_type": "code",
   "execution_count": 21,
   "metadata": {},
   "outputs": [
    {
     "name": "stdout",
     "output_type": "stream",
     "text": [
      "AnnData object with n_obs × n_vars = 10 × 17\n",
      "    obs: 'Cond'\n",
      "    var: 'n_cells'\n"
     ]
    }
   ],
   "source": [
    "# Import data from scanpy\n",
    "data_scanpy = dat.from_scanpy(\n",
    "adata,\n",
    "cell_type_identifier = \"clusters\",\n",
    "sample_identifier = \"sample_ID\",\n",
    "covariate_df = cov_df4\n",
    ")\n",
    "print(data_scanpy)"
   ]
  },
  {
   "cell_type": "code",
   "execution_count": 9,
   "metadata": {},
   "outputs": [
    {
     "data": {
      "text/plain": [
       "AnnData object with n_obs × n_vars = 10 × 17\n",
       "    obs: 'Cond'\n",
       "    var: 'n_cells'"
      ]
     },
     "execution_count": 9,
     "metadata": {},
     "output_type": "execute_result"
    }
   ],
   "source": [
    "# Exploring scanpy object\n",
    "data_scanpy"
   ]
  },
  {
   "cell_type": "code",
   "execution_count": 22,
   "metadata": {},
   "outputs": [
    {
     "data": {
      "image/png": "[encoded data removed]",
      "text/plain": [
       "<Figure size 600x400 with 1 Axes>"
      ]
     },
     "metadata": {},
     "output_type": "display_data"
    }
   ],
   "source": [
    "viz.stacked_barplot(data_scanpy, feature_name = \"Cond\", dpi=100)\n",
    "pl.ylabel('% cells', fontsize=14)\n",
    "\n",
    "pl.savefig('test2.tiff', dpi = 300, bbox_inches='tight')\n",
    "plt.show()"
   ]
  },
  {
   "cell_type": "code",
   "execution_count": 22,
   "metadata": {},
   "outputs": [
    {
     "name": "stdout",
     "output_type": "stream",
     "text": [
      "Automatic reference selection! Reference cell type set to plasma cells\n",
      "Zero counts encountered in data! Added a pseudocount of 0.5.\n",
      "MCMC sampling finished. (88.555 sec)\n",
      "Acceptance rate: 52.5%\n",
      "Compositional Analysis summary:\n",
      "\n",
      "Data: 10 samples, 17 cell types\n",
      "Reference index: 16\n",
      "Formula: C(Cond, Treatment('RV_Control'))\n",
      "\n",
      "Intercepts:\n",
      "                   Final Parameter  Expected Sample\n",
      "Cell Type                                          \n",
      "B cells                     -1.140       100.069585\n",
      "CD4 T cells                 -0.311       229.262079\n",
      "CD8 T cells                  0.047       327.951521\n",
      "NK cells                    -0.362       217.862863\n",
      "Tregs                       -0.723       151.845840\n",
      "VSMCs                       -0.421       205.380796\n",
      "cardiomyocytes               1.383      1247.461290\n",
      "dendritic cells             -0.944       121.737343\n",
      "endocardial cells           -0.671       159.950725\n",
      "endothelial cells            1.525      1437.794752\n",
      "fibroblasts                  0.234       395.387302\n",
      "macrophage                   0.552       543.410922\n",
      "mast cells                  -1.248        89.825221\n",
      "monocytes                   -0.022       306.085905\n",
      "neuronal                    -0.800       140.592523\n",
      "pericytes                    0.363       449.828229\n",
      "plasma cells                -0.941       122.103103\n",
      "\n",
      "\n",
      "Effects:\n",
      "                                                              Final Parameter  \\\n",
      "Covariate                                  Cell Type                            \n",
      "C(Cond, Treatment('RV_Control'))[T.LV_CAV] B cells                        0.0   \n",
      "                                           CD4 T cells                    0.0   \n",
      "                                           CD8 T cells                    0.0   \n",
      "                                           NK cells                       0.0   \n",
      "                                           Tregs                          0.0   \n",
      "                                           VSMCs                          0.0   \n",
      "                                           cardiomyocytes                 0.0   \n",
      "                                           dendritic cells                0.0   \n",
      "                                           endocardial cells              0.0   \n",
      "                                           endothelial cells              0.0   \n",
      "                                           fibroblasts                    0.0   \n",
      "                                           macrophage                     0.0   \n",
      "                                           mast cells                     0.0   \n",
      "                                           monocytes                      0.0   \n",
      "                                           neuronal                       0.0   \n",
      "                                           pericytes                      0.0   \n",
      "                                           plasma cells                   0.0   \n",
      "C(Cond, Treatment('RV_Control'))[T.RV_CAV] B cells                        0.0   \n",
      "                                           CD4 T cells                    0.0   \n",
      "                                           CD8 T cells                    0.0   \n",
      "                                           NK cells                       0.0   \n",
      "                                           Tregs                          0.0   \n",
      "                                           VSMCs                          0.0   \n",
      "                                           cardiomyocytes                 0.0   \n",
      "                                           dendritic cells                0.0   \n",
      "                                           endocardial cells              0.0   \n",
      "                                           endothelial cells              0.0   \n",
      "                                           fibroblasts                    0.0   \n",
      "                                           macrophage                     0.0   \n",
      "                                           mast cells                     0.0   \n",
      "                                           monocytes                      0.0   \n",
      "                                           neuronal                       0.0   \n",
      "                                           pericytes                      0.0   \n",
      "                                           plasma cells                   0.0   \n",
      "\n",
      "                                                              Expected Sample  \\\n",
      "Covariate                                  Cell Type                            \n",
      "C(Cond, Treatment('RV_Control'))[T.LV_CAV] B cells                 100.069585   \n",
      "                                           CD4 T cells             229.262079   \n",
      "                                           CD8 T cells             327.951521   \n",
      "                                           NK cells                217.862863   \n",
      "                                           Tregs                   151.845840   \n",
      "                                           VSMCs                   205.380796   \n",
      "                                           cardiomyocytes         1247.461290   \n",
      "                                           dendritic cells         121.737343   \n",
      "                                           endocardial cells       159.950725   \n",
      "                                           endothelial cells      1437.794752   \n",
      "                                           fibroblasts             395.387302   \n",
      "                                           macrophage              543.410922   \n",
      "                                           mast cells               89.825221   \n",
      "                                           monocytes               306.085905   \n",
      "                                           neuronal                140.592523   \n",
      "                                           pericytes               449.828229   \n",
      "                                           plasma cells            122.103103   \n",
      "C(Cond, Treatment('RV_Control'))[T.RV_CAV] B cells                 100.069585   \n",
      "                                           CD4 T cells             229.262079   \n",
      "                                           CD8 T cells             327.951521   \n",
      "                                           NK cells                217.862863   \n",
      "                                           Tregs                   151.845840   \n",
      "                                           VSMCs                   205.380796   \n",
      "                                           cardiomyocytes         1247.461290   \n",
      "                                           dendritic cells         121.737343   \n",
      "                                           endocardial cells       159.950725   \n",
      "                                           endothelial cells      1437.794752   \n",
      "                                           fibroblasts             395.387302   \n",
      "                                           macrophage              543.410922   \n",
      "                                           mast cells               89.825221   \n",
      "                                           monocytes               306.085905   \n",
      "                                           neuronal                140.592523   \n",
      "                                           pericytes               449.828229   \n",
      "                                           plasma cells            122.103103   \n",
      "\n",
      "                                                              log2-fold change  \n",
      "Covariate                                  Cell Type                            \n",
      "C(Cond, Treatment('RV_Control'))[T.LV_CAV] B cells                         0.0  \n",
      "                                           CD4 T cells                     0.0  \n",
      "                                           CD8 T cells                     0.0  \n",
      "                                           NK cells                        0.0  \n",
      "                                           Tregs                           0.0  \n",
      "                                           VSMCs                           0.0  \n",
      "                                           cardiomyocytes                  0.0  \n",
      "                                           dendritic cells                 0.0  \n",
      "                                           endocardial cells               0.0  \n",
      "                                           endothelial cells               0.0  \n",
      "                                           fibroblasts                     0.0  \n",
      "                                           macrophage                      0.0  \n",
      "                                           mast cells                      0.0  \n",
      "                                           monocytes                       0.0  \n",
      "                                           neuronal                        0.0  \n",
      "                                           pericytes                       0.0  \n",
      "                                           plasma cells                    0.0  \n",
      "C(Cond, Treatment('RV_Control'))[T.RV_CAV] B cells                         0.0  \n",
      "                                           CD4 T cells                     0.0  \n",
      "                                           CD8 T cells                     0.0  \n",
      "                                           NK cells                        0.0  \n",
      "                                           Tregs                           0.0  \n",
      "                                           VSMCs                           0.0  \n",
      "                                           cardiomyocytes                  0.0  \n",
      "                                           dendritic cells                 0.0  \n",
      "                                           endocardial cells               0.0  \n",
      "                                           endothelial cells               0.0  \n",
      "                                           fibroblasts                     0.0  \n",
      "                                           macrophage                      0.0  \n",
      "                                           mast cells                      0.0  \n",
      "                                           monocytes                       0.0  \n",
      "                                           neuronal                        0.0  \n",
      "                                           pericytes                       0.0  \n",
      "                                           plasma cells                    0.0  \n"
     ]
    }
   ],
   "source": [
    "model_all = mod.CompositionalAnalysis(data_scanpy, formula=\"C(Cond, Treatment('RV_Control'))\", reference_cell_type=\"automatic\")\n",
    "all_results = model_all.sample_hmc()\n",
    "all_results.summary()"
   ]
  }
 ],
 "metadata": {
  "kernelspec": {
   "display_name": "Python 3",
   "language": "python",
   "name": "python3"
  },
  "language_info": {
   "codemirror_mode": {
    "name": "ipython",
    "version": 3
   },
   "file_extension": ".py",
   "mimetype": "text/x-python",
   "name": "python",
   "nbconvert_exporter": "python",
   "pygments_lexer": "ipython3",
   "version": "3.8.5"
  }
 },
 "nbformat": 4,
 "nbformat_minor": 4
}
